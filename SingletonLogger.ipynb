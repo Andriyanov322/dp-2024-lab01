{
 "cells": [
  {
   "cell_type": "code",
   "execution_count": 8,
   "id": "76b1c466-93ad-40bc-b601-043bceaf48e8",
   "metadata": {},
   "outputs": [],
   "source": [
    "import threading\n",
    "import os\n",
    "from datetime import datetime"
   ]
  },
  {
   "cell_type": "code",
   "execution_count": 9,
   "id": "ba1c8914-17d0-4eef-a101-a626956284ac",
   "metadata": {},
   "outputs": [],
   "source": [
    "class SingletonMeta(type):\n",
    "    \n",
    "    #Шаблон Singleton, который ограничивает создание экземпляра класса до одного\n",
    "    \n",
    "    _instances = {}\n",
    "    _lock: threading.Lock = threading.Lock()\n",
    "\n",
    "    def __call__(cls, *args, **kwargs):\n",
    "        with cls._lock:\n",
    "            if cls not in cls._instances:\n",
    "                instance = super().__call__(*args, **kwargs)\n",
    "                cls._instances[cls] = instance\n",
    "        return cls._instances[cls]"
   ]
  },
  {
   "cell_type": "code",
   "execution_count": 10,
   "id": "7628ba48-4b47-4552-9259-e5ff6cea2c4e",
   "metadata": {},
   "outputs": [],
   "source": [
    "class Logger(metaclass=SingletonMeta):\n",
    "    \n",
    "    #Логгер, записывающий сообщения в файл с поддержкой шаблона Singleton\n",
    "    \n",
    "    def __init__(self, level=\"INFO\"):\n",
    "        timestamp = datetime.now().strftime(\"%Y-%m-%d.%H-%M-%S\")\n",
    "        filename = f\"DP.P1.{timestamp}.log\"\n",
    "        self.filepath = os.path.join(os.getcwd(), filename)\n",
    "        self.level = level\n",
    "        with open(self.filepath, 'w') as f:\n",
    "            pass  # Создаем (или очищаем) файл при инициализации\n",
    "\n",
    "    def log(self, message, level=\"INFO\"):\n",
    "        current_time = datetime.now().strftime(\"%Y-%m-%d %H:%M:%S\")\n",
    "        log_message = f\"{current_time} [{level}] {message}\"\n",
    "        with open(self.filepath, 'a') as f:\n",
    "            f.write(log_message + \"\\n\")\n",
    "        print(log_message)  # Можно убрать, если не требуется вывод в консоль\n",
    "\n",
    "    def trace(self, message):\n",
    "        self.log(message, level=\"TRACE\")\n",
    "\n",
    "    def info(self, message):\n",
    "        self.log(message, level=\"INFO\")\n",
    "\n",
    "    def warn(self, message):\n",
    "        self.log(message, level=\"WARN\")\n",
    "\n",
    "    def error(self, message):\n",
    "        self.log(message, level=\"ERROR\")\n",
    "\n",
    "    def fatal(self, message):\n",
    "        self.log(message, level=\"FATAL\")"
   ]
  },
  {
   "cell_type": "code",
   "execution_count": 14,
   "id": "40f8cb9f-d258-479f-aaca-511ea3c37416",
   "metadata": {},
   "outputs": [
    {
     "name": "stdout",
     "output_type": "stream",
     "text": [
      "2024-10-16 01:54:16 [INFO] Application started successfully.\n",
      "2024-10-16 01:54:16 [ERROR] An error occurred.\n",
      "2024-10-16 01:54:16 [WARN] This is a warning.\n"
     ]
    }
   ],
   "source": [
    "# Пример использования\n",
    "logger = Logger()\n",
    "logger.info(\"Application started successfully.\")\n",
    "logger.error(\"An error occurred.\")\n",
    "logger.warn(\"This is a warning.\")"
   ]
  },
  {
   "cell_type": "code",
   "execution_count": 15,
   "id": "d91e7212-432c-4db4-8424-d83d16153a2b",
   "metadata": {},
   "outputs": [
    {
     "name": "stdout",
     "output_type": "stream",
     "text": [
      "2024-10-16 01:54:16 [INFO] Message from thread\n",
      "2024-10-16 01:54:16 [INFO] Message from thread\n",
      "2024-10-16 01:54:16 [ERROR] Error from thread\n",
      "2024-10-16 01:54:16 [INFO] Message from thread\n",
      "2024-10-16 01:54:16 [INFO] Message from thread\n",
      "2024-10-16 01:54:16 [INFO] Message from thread\n",
      "2024-10-16 01:54:16 [ERROR] Error from thread\n",
      "2024-10-16 01:54:16 [WARN] Warning from thread\n",
      "2024-10-16 01:54:16 [ERROR] Error from thread\n",
      "2024-10-16 01:54:16 [ERROR] Error from thread\n",
      "2024-10-16 01:54:16 [ERROR] Error from thread\n",
      "2024-10-16 01:54:16 [WARN] Warning from thread\n",
      "2024-10-16 01:54:16 [WARN] Warning from thread\n",
      "2024-10-16 01:54:16 [WARN] Warning from thread\n",
      "2024-10-16 01:54:16 [WARN] Warning from thread\n"
     ]
    }
   ],
   "source": [
    "def log_messages():\n",
    "    logger = Logger()\n",
    "    logger.info(\"Message from thread\")\n",
    "    logger.error(\"Error from thread\")\n",
    "    logger.warn(\"Warning from thread\")\n",
    "\n",
    "threads = [threading.Thread(target=log_messages) for _ in range(5)]\n",
    "\n",
    "for thread in threads:\n",
    "    thread.start()\n",
    "\n",
    "for thread in threads:\n",
    "    thread.join()"
   ]
  },
  {
   "cell_type": "markdown",
   "id": "50f22743-5dc7-496a-adbd-1c746ed72d3e",
   "metadata": {},
   "source": [
    "## 1. Состояния файлов в Git и их местоположение:\n",
    "- Modified (Изменен): Файл был изменен в рабочей директории (working tree), но изменения ещё не были добавлены в staged area.\n",
    "- Staged (Проиндексирован): Файл добавлен в staged area с помощью команды git add, но ещё не зафиксирован в репозитории.\n",
    "- Committed (Зафиксирован): Изменения файла зафиксированы в локальном репозитории.\n",
    "## 2. Команда для отображения состояния файлов в репозитории:\n",
    "Используется команда git status. Она показывает, какие файлы изменены, проиндексированы или не отслеживаются Git-ом.\n",
    "## 3. Команды для изменения состояния файлов:\n",
    "- git add: Добавляет измененные файлы в staged area.\n",
    "- git commit: Фиксирует изменения, добавленные в staged area, в локальном репозитории.\n",
    "- git reset: Перемещает файлы из staged area обратно в рабочую директорию.\n",
    "- git checkout: Позволяет восстановить файл до состояния последнего коммита.\n",
    "- git rm: Удаляет файл из рабочего дерева и индексирует это удаление.\n",
    "## 4. Просмотр истории изменений в Git:\n",
    "Команда git log отображает историю коммитов. Дополнительные опции, такие как git log --oneline или git log --graph, делают вывод более компактным и визуально понятным.\n",
    "## 5. Внесение правок в последний коммит:\n",
    "Если нужно изменить последний коммит, можно использовать команду git commit --amend. Это позволяет внести изменения в содержимое или сообщение последнего коммита.\n",
    "## 6. Отмена изменений определённого коммита:\n",
    "- Команда git revert <commit> создает новый коммит, отменяющий изменения, внесенные указанным коммитом.\n",
    "- Команда git reset --hard <commit> перемещает указатель текущей ветки на указанный коммит, отменяя все изменения, сделанные после него. Будьте осторожны с этой командой, так как она удаляет изменения из staging и working area.\n",
    "## 7. Возвращение к состоянию, которое было после определенного коммита:\n",
    "Команда git reset --hard <commit> откатывает изменения в рабочем дереве и индексации до состояния, которое было после указанного коммита.\n",
    "## 8. Работа с удалённым репозиторием:\n",
    "- git fetch: Загружает изменения из удалённого репозитория в локальные ветки, не сливая их с текущей.\n",
    "- git merge: Применяет изменения из удаленной ветки в локальную.\n",
    "- git pull: Сразу загружает и сливает изменения из удалённого репозитория.\n",
    "- git push: Отправляет локальные изменения в удалённый репозиторий.\n",
    "## 9. Ветвление в Git:\n",
    "Ветвь — это указатель на определённый коммит. Git хранит ветки в виде ссылок (рефов) в каталоге .git/refs/heads. Ветка указывает на цепочку коммитов, где каждый коммит содержит ссылку на предыдущий.\n",
    "## 10. Хранение конфигураций Git:\n",
    "Конфигурации хранятся в файлах:\n",
    "~/.gitconfig для глобальных настроек.\n",
    ".git/config для настроек конкретного репозитория.\n",
    "Команды для отображения конфигураций: git config --list (показывает все конфигурации), git config --global --list (глобальные конфигурации).\n",
    "## 11. Игнорирование определённых типов файлов или каталогов:\n",
    "Для игнорирования файлов и директорий используется файл .gitignore, в котором указываются шаблоны для игнорирования.\n",
    "В репозиториях часто используется .gitignore, который добавляется в корень проекта. Шаблоны файлов или папок, которые следует игнорировать, перечисляются построчно, например:\n",
    "\n",
    "Игнорирование всех файлов .log\n",
    "*.log\n",
    "\n",
    "Игнорирование папки temp\n",
    "temp/"
   ]
  },
  {
   "cell_type": "code",
   "execution_count": null,
   "id": "69d2f4b7-8579-4e47-b540-e794aed3a9ff",
   "metadata": {},
   "outputs": [],
   "source": []
  }
 ],
 "metadata": {
  "kernelspec": {
   "display_name": "Python 3 (ipykernel)",
   "language": "python",
   "name": "python3"
  },
  "language_info": {
   "codemirror_mode": {
    "name": "ipython",
    "version": 3
   },
   "file_extension": ".py",
   "mimetype": "text/x-python",
   "name": "python",
   "nbconvert_exporter": "python",
   "pygments_lexer": "ipython3",
   "version": "3.12.4"
  }
 },
 "nbformat": 4,
 "nbformat_minor": 5
}
